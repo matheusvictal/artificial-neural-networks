{
 "cells": [
  {
   "cell_type": "markdown",
   "metadata": {},
   "source": [
    "## Recurrent Networks (RR)\n",
    "\n",
    "Recurent networks are the ones that are able to learn patterns in sequencial/dependent data. Dense and convolutional layers consider only the present instance to computate the output. In each iteration, each instance goes trhough the layers on a linear manner until the final layer output. Recurrent networks work on a different way, the present instance iteration uses the output from layers on the previous intance iteration. This characteristic enables the network to identify dependence patterns in the data.\n",
    "\n",
    "This kind of network can have 3 configurations:\n",
    "* Single input and sequential output: for example, image as input and a written description of its content as the output;\n",
    "* Sequential input and single output: for example, text as input and a sentiment class as an output;\n",
    "* Sequential input and sequential output: for example, automatic trasnlation of text from one language to another.\n",
    "\n",
    "### Recurrent Neural Networks (RNNs)\n",
    "\n",
    "![Alt text](images/rr_example.png)"
   ]
  },
  {
   "cell_type": "markdown",
   "metadata": {},
   "source": []
  }
 ],
 "metadata": {
  "language_info": {
   "name": "python"
  }
 },
 "nbformat": 4,
 "nbformat_minor": 2
}
