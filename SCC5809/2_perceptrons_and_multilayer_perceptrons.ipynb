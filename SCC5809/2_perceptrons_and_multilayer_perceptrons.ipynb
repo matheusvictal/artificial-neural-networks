{
 "cells": [
  {
   "cell_type": "markdown",
   "metadata": {},
   "source": [
    "# Perceptrons and Multi-Layer Perceptrons\n",
    "\n",
    "* Neurons are the basic structure that form a neural network. A neuron receives an input, that is represented by a value, applies a linear transformation on this input, applies an activation function on the transformation result and retrieves a single output;\n",
    "* Perceptrons are single layer neural networks that work as a linear classifier (binary classifier). They can have several neurons on its composition, but just in the same layer."
   ]
  },
  {
   "cell_type": "markdown",
   "metadata": {},
   "source": [
    "### Simple pytorch model intuition"
   ]
  },
  {
   "cell_type": "code",
   "execution_count": 1,
   "metadata": {},
   "outputs": [],
   "source": [
    "import torch"
   ]
  },
  {
   "cell_type": "code",
   "execution_count": 2,
   "metadata": {},
   "outputs": [],
   "source": [
    "class Model():\n",
    "    # constructor\n",
    "    def __init__(self, num_inputs):\n",
    "        # w -> sampled from a normal distribution with mean 0 and standard deviation 1\n",
    "        self.w = torch.normal(mean=0,std=1,size=(num_inputs,1), requires_grad=True)\n",
    "        # b -> constant value (1 or 0) or even 1/total number of classes\n",
    "        self.b = torch.zeros(1, requires_grad=True) \n",
    "\n",
    "    # foward -> processes an input X value through the output\n",
    "    def foward(self, X):\n",
    "        return X@self.w + self.b\n",
    "\n",
    "    # quadratic loss\n",
    "    def loss(self, y, y_hat):\n",
    "        l = (y_hat - y.reshape(y_hat.shape))**2/2\n",
    "        return l.mean()"
   ]
  },
  {
   "cell_type": "code",
   "execution_count": 3,
   "metadata": {},
   "outputs": [],
   "source": [
    "my_model = Model(2)"
   ]
  },
  {
   "cell_type": "code",
   "execution_count": 4,
   "metadata": {},
   "outputs": [
    {
     "data": {
      "text/plain": [
       "(tensor([[-1.2474],\n",
       "         [-0.4756]], requires_grad=True),\n",
       " tensor([0.], requires_grad=True))"
      ]
     },
     "execution_count": 4,
     "metadata": {},
     "output_type": "execute_result"
    }
   ],
   "source": [
    "my_model.w, my_model.b"
   ]
  },
  {
   "cell_type": "code",
   "execution_count": 5,
   "metadata": {},
   "outputs": [
    {
     "data": {
      "text/plain": [
       "tensor([-1.7230], grad_fn=<AddBackward0>)"
      ]
     },
     "execution_count": 5,
     "metadata": {},
     "output_type": "execute_result"
    }
   ],
   "source": [
    "my_model.foward(torch.tensor([1,1],  dtype=torch.float32))"
   ]
  },
  {
   "cell_type": "code",
   "execution_count": 6,
   "metadata": {},
   "outputs": [
    {
     "data": {
      "text/plain": [
       "(tensor([[ 0.1726,  0.0313],\n",
       "         [ 2.6660,  3.6804],\n",
       "         [ 3.4600,  6.1613],\n",
       "         [ 6.2355,  6.4295],\n",
       "         [ 9.2588,  9.8744],\n",
       "         [10.3935, 10.5823],\n",
       "         [13.3872, 13.2554],\n",
       "         [13.7307, 14.7170]]),\n",
       " tensor([0., 1., 2., 3., 4., 5., 6., 7.]))"
      ]
     },
     "execution_count": 6,
     "metadata": {},
     "output_type": "execute_result"
    }
   ],
   "source": [
    "# Regression\n",
    "X = torch.arange(16,dtype=torch.float32).reshape([8,2]) + torch.normal(mean=0,std=.5,size=(8,2))\n",
    "y = torch.arange(8, dtype=torch.float32)\n",
    "\n",
    "X,y"
   ]
  },
  {
   "cell_type": "code",
   "execution_count": 7,
   "metadata": {},
   "outputs": [
    {
     "data": {
      "text/plain": [
       "(tensor([[ -0.2302],\n",
       "         [ -5.0759],\n",
       "         [ -7.2463],\n",
       "         [-10.8361],\n",
       "         [-16.2457],\n",
       "         [-17.9977],\n",
       "         [-23.0035],\n",
       "         [-24.1271]], grad_fn=<AddBackward0>),\n",
       " tensor([0., 1., 2., 3., 4., 5., 6., 7.]))"
      ]
     },
     "execution_count": 7,
     "metadata": {},
     "output_type": "execute_result"
    }
   ],
   "source": [
    "my_model.foward(X), y"
   ]
  },
  {
   "cell_type": "code",
   "execution_count": 8,
   "metadata": {},
   "outputs": [
    {
     "data": {
      "text/plain": [
       "tensor(191.4239, grad_fn=<MeanBackward0>)"
      ]
     },
     "execution_count": 8,
     "metadata": {},
     "output_type": "execute_result"
    }
   ],
   "source": [
    "# Loss!\n",
    "y_hat = my_model.foward(X)\n",
    "\n",
    "my_model.loss(y, y_hat)"
   ]
  },
  {
   "cell_type": "code",
   "execution_count": 1,
   "metadata": {},
   "outputs": [],
   "source": [
    "# Exercise: try to use other models (more entries) and another regression example"
   ]
  },
  {
   "cell_type": "code",
   "execution_count": 7,
   "metadata": {},
   "outputs": [
    {
     "data": {
      "text/plain": [
       "0.09499999999999997"
      ]
     },
     "execution_count": 7,
     "metadata": {},
     "output_type": "execute_result"
    }
   ],
   "source": [
    "((0.3-1)**2/2 + (0.2-0)**2/2 + (0.8-1)**2/2)/3"
   ]
  },
  {
   "cell_type": "code",
   "execution_count": null,
   "metadata": {},
   "outputs": [],
   "source": []
  }
 ],
 "metadata": {
  "kernelspec": {
   "display_name": "env",
   "language": "python",
   "name": "python3"
  },
  "language_info": {
   "codemirror_mode": {
    "name": "ipython",
    "version": 3
   },
   "file_extension": ".py",
   "mimetype": "text/x-python",
   "name": "python",
   "nbconvert_exporter": "python",
   "pygments_lexer": "ipython3",
   "version": "3.11.3"
  },
  "orig_nbformat": 4
 },
 "nbformat": 4,
 "nbformat_minor": 2
}
