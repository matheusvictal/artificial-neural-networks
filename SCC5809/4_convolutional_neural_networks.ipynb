{
 "cells": [
  {
   "cell_type": "markdown",
   "metadata": {},
   "source": [
    "## Convolutional Neural Networks (CNNs)\n",
    "\n",
    "* A convolutional neural network is caracterized by the presence of a convolutional layer. This layer is responsible for mapping a given input point in a linear combination of the values in its vicinity. Hence, it applies a filter on the input that runs the entire input (that can be an image, for example).\n",
    "\n",
    "* We can interpret a convolutional layer as a pattern detector in a certain local receptive field.\n",
    "\n",
    "* For a written number detection task, for example, each convolutional layer neuron can be tunned to detect a pattern (for example, a vertical line, or a corner) that can be associated with a given number. Each neuron can be trained to specialize in detecting a specific pattern.\n",
    "\n",
    "* It is possible to compute the CNN parameters number: a convolution layer has [(filter_dimension $\\cdot$ input_depth + 1) $\\cdot$ neurons_number] parameters"
   ]
  },
  {
   "cell_type": "markdown",
   "metadata": {},
   "source": []
  }
 ],
 "metadata": {
  "language_info": {
   "name": "python"
  },
  "orig_nbformat": 4
 },
 "nbformat": 4,
 "nbformat_minor": 2
}
