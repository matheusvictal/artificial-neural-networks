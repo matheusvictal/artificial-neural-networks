{
 "cells": [
  {
   "cell_type": "markdown",
   "metadata": {},
   "source": [
    "## Convolutional Neural Networks (CNNs)\n",
    "\n",
    "* A convolutional neural network is characterized by the presence of a convolutional layer. This layer is responsible for mapping a given input point in a linear combination of the values in its vicinity. Hence, it applies a filter on the input that runs the entire input (that can be an image, for example).\n",
    "\n",
    "* A MLP network considers the input entries independent from each other, hence, it can not take advantage of possible local relashionships between attributes. CNNs, on the other hand, are designet to include this feature. This does not imply that MLP are bad implementations, they are just different than CNNs and perform differently deppending on the data space.\n",
    "\n",
    "* We can interpret a convolutional layer as a pattern detector in a certain local receptive field.\n",
    "\n",
    "* A local repective field is the \"region\" of the original input that was used to obtain a point in the activalio map.\n",
    "\n",
    "* Activation maps are obtained after the input passed through the convolutional layer and activation function. Its ize is equal to the filter size.\n",
    "\n",
    "* Zero-padding: enlarge the input dimensionality so that the output matches the input dimensionality.\n",
    "\n",
    "* Deep convolution: when the input has more than one chanel. In this case, the filter will have dimension $k$ x $k$ x $p$, where $k$ is the filters square and $p$ is the number of chanels. \n",
    "\n",
    "* For a written number detection task, for example, each convolutional layer neuron can be tunned to detect a pattern (for example, a vertical line, or a corner) that can be associated with a given number. Each neuron can be trained to specialize in detecting a specific pattern.\n",
    "\n",
    "* The weights matrix $W$ in a CNN is given by the values o the filter weights.\n",
    "\n",
    "* It is possible to compute the CNN parameters number: a convolution layer has [(filter_dimension $\\cdot$ input_depth + 1) $\\cdot$ neurons_number] parameters.\n",
    "\n",
    "### Pooling Layers\n",
    "\n",
    "* A limitation of concolutional layers is that they pull all the specific information about the input for the next layer. They record the precise position of features in the input, making it difficult to learn more general patterns on the data. Slight changes on the input, such as a rotation or shifting, will change the feature map. \n",
    "\n",
    "* Pooling comes into play to tackle this problem. Basically it is a filter that performs an operation to lower the resolution of the input (stride can be used for the same purpose, but pooling layers are more robust). The operation can be obtaining the average or the maximum of a given region of the input and is commonly performed in 2x2 squares with a stride of two pixels.\n",
    "\n",
    "* In this [article](https://machinelearningmastery.com/pooling-layers-for-convolutional-neural-networks/), the author describes the pooling functionality and gives examples.\n",
    "\n",
    "### Depthwise Separable Convolutions (DSC)\n",
    "\n",
    "This [article](https://towardsdatascience.com/a-basic-introduction-to-separable-convolutions-b99ec3102728) provides a good resume of the MobileNet DSC procedure."
   ]
  },
  {
   "cell_type": "markdown",
   "metadata": {},
   "source": []
  },
  {
   "cell_type": "code",
   "execution_count": 5,
   "metadata": {},
   "outputs": [],
   "source": [
    "import torch\n",
    "import numpy as np\n",
    "from torch import nn"
   ]
  },
  {
   "cell_type": "code",
   "execution_count": 4,
   "metadata": {},
   "outputs": [],
   "source": [
    "W = torch.tensor([[-1, 0.5, 1], [-1, 0, 0], [0, 0, 0.5]])\n",
    "A = torch.tensor([[-3, 3, 3], [3, 2, 0], [-1, -2, 1]])"
   ]
  }
 ],
 "metadata": {
  "kernelspec": {
   "display_name": "env",
   "language": "python",
   "name": "python3"
  },
  "language_info": {
   "codemirror_mode": {
    "name": "ipython",
    "version": 3
   },
   "file_extension": ".py",
   "mimetype": "text/x-python",
   "name": "python",
   "nbconvert_exporter": "python",
   "pygments_lexer": "ipython3",
   "version": "3.11.3"
  },
  "orig_nbformat": 4
 },
 "nbformat": 4,
 "nbformat_minor": 2
}
