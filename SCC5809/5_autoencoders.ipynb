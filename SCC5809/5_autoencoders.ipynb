{
 "cells": [
  {
   "cell_type": "markdown",
   "metadata": {},
   "source": [
    "# Autoencoders\n",
    "\n",
    "* Autoencoders are unsupervised learning models used to learn representations.\n",
    "\n",
    "* It is composed by two parts: the encoder and the decoder.\n",
    "\n",
    "* The encoder is responsible for creating a representation of the original input (code, feature embedding) and the decoder is responsible for trying to recreate the original input from this code. Both encoder and decoder can be built from dense layers.\n",
    "\n",
    "* The decoder output is not the same as the original input as it was transformed by the encoder and not all the information from it is necessarily present in the code. \n",
    "\n",
    "* Loss function: as the loss is computed comparing the input to the decoder output, regression related loss functions are used to train the autoencoder. We can use, for example, the mean squared error.\n",
    "\n",
    "* After training the autoencoder, it is possible to use the representation (code) for a series of applications. It can be used for indexing data, datasearch in large datasets, and classification useing other ML method.\n",
    "\n",
    "## Undercomplete autoencoders\n",
    "\n",
    "* An undercomplete autoencoder's encoder obtains representations that have a reduced dimensionality when compared to the input. They can be used to learn a dimensionality reduction.\n",
    "\n",
    "* A dense autoencoder with a single encoder/decoder layer has mathematical relation to the PCA method: if the data manifold is linear, the autoencoder tends to converge to a projection of the $m$ principal components of the data.\n",
    "\n",
    "* Hence, this autoencoder makes a compression of the input, with information loss and the code related layer is called \"bottloneck\".\n",
    "\n",
    "* The autoencoder learns to recreate, to its best capabilities, the original inputs. So it is trained to learn patterns on the code that relate to a certain feature in the original input.\n",
    "\n",
    "* If the autoencoder is trained to recreate images of numbers from 0 to 9, for example, and then is feeded with images of clothes, for example, the output will try to find patterns that ressembles a number on the clothing image. Hence, ir recreates clothes images in ressemblance to numbers.\n",
    "\n",
    "* Deep undercomplete autoencoders: they can have other types of layers like convolutioinal layers and pooling layers. The code layer is ini most cases a fully conected (dense) layer to allow the projection of the data.\n",
    "\n",
    "## Overcomplete autoencoders\n",
    "\n",
    "* Intermediary layer (code layer) with bigger or equal dimensionality than the input.\n",
    "\n",
    "* A simple implementation would learn to \"copy\" the input, as the code layer has this capacity. Hence, it is necessary to restrain this space.\n",
    "\n",
    "* To prevent this, we can use regularization or dropout techiniques.\n",
    "\n",
    "## Denoising autoencoders\n",
    "\n",
    "* This type of autoencoder, that can be under or overcomplete, is trainet  to remove noise from an input. The input of this neural network corresponds to the original input with some noise added and the loss function is calculated between the final output and the original input.\n",
    "\n",
    "* This architecture allows the neural network to learn to remove noise from the original input.\n",
    "\n",
    "* This noise can be introduced by adding some noise (like a gaussian noise) or remove some points (replace by zero) on the original input."
   ]
  },
  {
   "cell_type": "markdown",
   "metadata": {},
   "source": [
    "### Autoencoder example in pytorch"
   ]
  },
  {
   "cell_type": "code",
   "execution_count": 1,
   "metadata": {},
   "outputs": [],
   "source": [
    "import torch\n",
    "from torchvision import datasets\n",
    "from torchvision import transforms\n",
    "import matplotlib.pyplot as plt\n",
    "\n",
    "import torch.nn as nn\n",
    "import torch.nn.functional as F"
   ]
  },
  {
   "cell_type": "code",
   "execution_count": 2,
   "metadata": {},
   "outputs": [
    {
     "name": "stdout",
     "output_type": "stream",
     "text": [
      "Downloading http://yann.lecun.com/exdb/mnist/train-images-idx3-ubyte.gz\n",
      "Downloading http://yann.lecun.com/exdb/mnist/train-images-idx3-ubyte.gz to ./data\\MNIST\\raw\\train-images-idx3-ubyte.gz\n"
     ]
    },
    {
     "name": "stderr",
     "output_type": "stream",
     "text": [
      "100.0%\n"
     ]
    },
    {
     "name": "stdout",
     "output_type": "stream",
     "text": [
      "Extracting ./data\\MNIST\\raw\\train-images-idx3-ubyte.gz to ./data\\MNIST\\raw\n",
      "\n",
      "Downloading http://yann.lecun.com/exdb/mnist/train-labels-idx1-ubyte.gz\n",
      "Downloading http://yann.lecun.com/exdb/mnist/train-labels-idx1-ubyte.gz to ./data\\MNIST\\raw\\train-labels-idx1-ubyte.gz\n"
     ]
    },
    {
     "name": "stderr",
     "output_type": "stream",
     "text": [
      "100.0%\n"
     ]
    },
    {
     "name": "stdout",
     "output_type": "stream",
     "text": [
      "Extracting ./data\\MNIST\\raw\\train-labels-idx1-ubyte.gz to ./data\\MNIST\\raw\n",
      "\n",
      "Downloading http://yann.lecun.com/exdb/mnist/t10k-images-idx3-ubyte.gz\n",
      "Downloading http://yann.lecun.com/exdb/mnist/t10k-images-idx3-ubyte.gz to ./data\\MNIST\\raw\\t10k-images-idx3-ubyte.gz\n"
     ]
    },
    {
     "name": "stderr",
     "output_type": "stream",
     "text": [
      "100.0%\n"
     ]
    },
    {
     "name": "stdout",
     "output_type": "stream",
     "text": [
      "Extracting ./data\\MNIST\\raw\\t10k-images-idx3-ubyte.gz to ./data\\MNIST\\raw\n",
      "\n",
      "Downloading http://yann.lecun.com/exdb/mnist/t10k-labels-idx1-ubyte.gz\n",
      "Downloading http://yann.lecun.com/exdb/mnist/t10k-labels-idx1-ubyte.gz to ./data\\MNIST\\raw\\t10k-labels-idx1-ubyte.gz\n"
     ]
    },
    {
     "name": "stderr",
     "output_type": "stream",
     "text": [
      "100.0%\n"
     ]
    },
    {
     "name": "stdout",
     "output_type": "stream",
     "text": [
      "Extracting ./data\\MNIST\\raw\\t10k-labels-idx1-ubyte.gz to ./data\\MNIST\\raw\n",
      "\n"
     ]
    }
   ],
   "source": [
    "tensor_transform = transforms.ToTensor()\n",
    "\n",
    "dataset = datasets.MNIST(root='./data',\n",
    "                         train=True,\n",
    "                         download=True,\n",
    "                         transform=tensor_transform)\n",
    "\n",
    "loader = torch.utils.data.DataLoader(dataset=dataset,\n",
    "                                     batch_size=32,\n",
    "                                     shuffle=True)"
   ]
  },
  {
   "cell_type": "code",
   "execution_count": 8,
   "metadata": {},
   "outputs": [],
   "source": [
    "class Autoencoder(nn.Module):\n",
    "    def __init__(self):\n",
    "        super().__init__()\n",
    "\n",
    "        self.encoder = nn.Sequential(\n",
    "            nn.Linear(28*28, 128), # 784 dim -> 128 dim\n",
    "            nn.ReLU(),\n",
    "            nn.Linear(128, 32), # 128 dim -> 32 dim\n",
    "            nn.ReLU()\n",
    "        )\n",
    "\n",
    "        self.decoder = nn.Sequential(\n",
    "            nn.Linear(32, 128),\n",
    "            nn.ReLU(),\n",
    "            nn.Linear(128, 28*28),\n",
    "            nn.Sigmoid()\n",
    "        )\n",
    "\n",
    "    def forward(self, x):\n",
    "        z = self.encoder(x)\n",
    "        x_hat = self.decoder(z)\n",
    "        return x_hat"
   ]
  },
  {
   "cell_type": "code",
   "execution_count": 9,
   "metadata": {},
   "outputs": [
    {
     "name": "stdout",
     "output_type": "stream",
     "text": [
      "Autoencoder(\n",
      "  (encoder): Sequential(\n",
      "    (0): Linear(in_features=784, out_features=128, bias=True)\n",
      "    (1): ReLU()\n",
      "    (2): Linear(in_features=128, out_features=32, bias=True)\n",
      "    (3): ReLU()\n",
      "  )\n",
      "  (decoder): Sequential(\n",
      "    (0): Linear(in_features=32, out_features=128, bias=True)\n",
      "    (1): ReLU()\n",
      "    (2): Linear(in_features=128, out_features=784, bias=True)\n",
      "    (3): Sigmoid()\n",
      "  )\n",
      ")\n"
     ]
    }
   ],
   "source": [
    "ae = Autoencoder()\n",
    "print(ae)"
   ]
  },
  {
   "cell_type": "code",
   "execution_count": 10,
   "metadata": {},
   "outputs": [],
   "source": [
    "loss_fn = nn.MSELoss()\n",
    "optim = torch.optim.Adam(ae.parameters(), lr=.002, weight_decay=1e-7)"
   ]
  },
  {
   "cell_type": "code",
   "execution_count": 11,
   "metadata": {},
   "outputs": [
    {
     "name": "stdout",
     "output_type": "stream",
     "text": [
      "0 1 2 3 4 5 6 7 8 9 10 11 12 13 14 15 16 17 18 19 "
     ]
    }
   ],
   "source": [
    "epochs = 20\n",
    "outputs = []\n",
    "losses = []\n",
    "\n",
    "for epoch in range(epochs):\n",
    "    print(f'{epoch} ', end='')\n",
    "\n",
    "    for(image, _) in loader:\n",
    "        image = image.reshape(-1, 28*28)\n",
    "\n",
    "        reconstructed = ae(image)\n",
    "\n",
    "        loss = loss_fn(reconstructed, image)\n",
    "\n",
    "        optim.zero_grad()\n",
    "        loss.backward()\n",
    "        optim.step()\n",
    "\n",
    "        losses.append(loss)\n",
    "\n",
    "    outputs.append((epoch, image, reconstructed))"
   ]
  },
  {
   "cell_type": "code",
   "execution_count": 12,
   "metadata": {},
   "outputs": [],
   "source": [
    "# transforming the losses from a tensor to a list\n",
    "losses_val = [l.item() for l in losses]"
   ]
  },
  {
   "cell_type": "code",
   "execution_count": 13,
   "metadata": {},
   "outputs": [
    {
     "data": {
      "text/plain": [
       "37500"
      ]
     },
     "execution_count": 13,
     "metadata": {},
     "output_type": "execute_result"
    }
   ],
   "source": [
    "len(losses_val)"
   ]
  },
  {
   "cell_type": "code",
   "execution_count": 14,
   "metadata": {},
   "outputs": [
    {
     "data": {
      "text/plain": [
       "[<matplotlib.lines.Line2D at 0x2ba3e163250>]"
      ]
     },
     "execution_count": 14,
     "metadata": {},
     "output_type": "execute_result"
    },
    {
     "data": {
      "image/png": "[encoded data removed]",
      "text/plain": [
       "<Figure size 640x480 with 1 Axes>"
      ]
     },
     "metadata": {},
     "output_type": "display_data"
    }
   ],
   "source": [
    "plt.xlabel('Iterations')\n",
    "plt.ylabel('Loss')\n",
    "plt.plot(losses_val)"
   ]
  },
  {
   "cell_type": "code",
   "execution_count": 15,
   "metadata": {},
   "outputs": [
    {
     "data": {
      "image/png": "[encoded data removed]",
      "text/plain": [
       "<Figure size 640x480 with 2 Axes>"
      ]
     },
     "metadata": {},
     "output_type": "display_data"
    }
   ],
   "source": [
    "for i, item in enumerate(image):\n",
    "    item = item.reshape(-1, 28, 28)\n",
    "    plt.subplot(211)\n",
    "    plt.imshow(item[0], cmap='gray')\n",
    "\n",
    "for i, item in enumerate(reconstructed):\n",
    "    item = item.reshape(-1, 28, 28)\n",
    "    plt.subplot(212)\n",
    "    plt.imshow(item[0].detach().numpy(), cmap='gray')"
   ]
  },
  {
   "cell_type": "markdown",
   "metadata": {},
   "source": [
    "We can use the trained encoder to obtain features from the original image (code)"
   ]
  },
  {
   "cell_type": "code",
   "execution_count": 16,
   "metadata": {},
   "outputs": [],
   "source": [
    "features_imgs = ae.encoder(image)"
   ]
  },
  {
   "cell_type": "code",
   "execution_count": 17,
   "metadata": {},
   "outputs": [
    {
     "data": {
      "text/plain": [
       "array([ 9.956995 ,  0.       ,  5.7709174,  8.044283 ,  0.       ,\n",
       "        3.2850966,  0.       ,  8.635914 ,  0.       ,  5.8898115,\n",
       "        7.1035056, 10.69808  ,  8.894035 ,  0.       ,  5.76381  ,\n",
       "        7.0935125,  1.217407 ,  8.192185 , 11.315899 , 10.180176 ,\n",
       "        3.2130694,  0.       ,  9.009417 ,  4.1275086,  7.7044225,\n",
       "        0.       ,  6.8154235,  0.       ,  0.       ,  0.       ,\n",
       "        0.       ,  4.509123 ], dtype=float32)"
      ]
     },
     "execution_count": 17,
     "metadata": {},
     "output_type": "execute_result"
    }
   ],
   "source": [
    "features_imgs[0].detach().numpy()"
   ]
  },
  {
   "cell_type": "code",
   "execution_count": null,
   "metadata": {},
   "outputs": [],
   "source": []
  }
 ],
 "metadata": {
  "kernelspec": {
   "display_name": "env",
   "language": "python",
   "name": "python3"
  },
  "language_info": {
   "codemirror_mode": {
    "name": "ipython",
    "version": 3
   },
   "file_extension": ".py",
   "mimetype": "text/x-python",
   "name": "python",
   "nbconvert_exporter": "python",
   "pygments_lexer": "ipython3",
   "version": "3.11.3"
  },
  "orig_nbformat": 4
 },
 "nbformat": 4,
 "nbformat_minor": 2
}
